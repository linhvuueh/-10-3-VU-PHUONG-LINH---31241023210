{
  "nbformat": 4,
  "nbformat_minor": 0,
  "metadata": {
    "colab": {
      "provenance": [],
      "authorship_tag": "ABX9TyPs0sfYMil0EsG/zweLWjtR",
      "include_colab_link": true
    },
    "kernelspec": {
      "name": "python3",
      "display_name": "Python 3"
    },
    "language_info": {
      "name": "python"
    }
  },
  "cells": [
    {
      "cell_type": "markdown",
      "metadata": {
        "id": "view-in-github",
        "colab_type": "text"
      },
      "source": [
        "<a href=\"https://colab.research.google.com/github/linhvuueh/-10-3-VU-PHUONG-LINH---31241023210/blob/main/%5BCIFAR_100%5D_VU_PHUONG_LINH_31241023210.ipynb\" target=\"_parent\"><img src=\"https://colab.research.google.com/assets/colab-badge.svg\" alt=\"Open In Colab\"/></a>"
      ]
    },
    {
      "cell_type": "code",
      "execution_count": 3,
      "metadata": {
        "colab": {
          "base_uri": "https://localhost:8080/",
          "height": 1000
        },
        "id": "_hin8ljZIVzD",
        "outputId": "7995e05c-9ce4-4843-a238-39163068ecfe"
      },
      "outputs": [
        {
          "output_type": "stream",
          "name": "stderr",
          "text": [
            "/usr/local/lib/python3.11/dist-packages/keras/src/layers/core/dense.py:87: UserWarning: Do not pass an `input_shape`/`input_dim` argument to a layer. When using Sequential models, prefer using an `Input(shape)` object as the first layer in the model instead.\n",
            "  super().__init__(activity_regularizer=activity_regularizer, **kwargs)\n"
          ]
        },
        {
          "output_type": "display_data",
          "data": {
            "text/plain": [
              "\u001b[1mModel: \"sequential_1\"\u001b[0m\n"
            ],
            "text/html": [
              "<pre style=\"white-space:pre;overflow-x:auto;line-height:normal;font-family:Menlo,'DejaVu Sans Mono',consolas,'Courier New',monospace\"><span style=\"font-weight: bold\">Model: \"sequential_1\"</span>\n",
              "</pre>\n"
            ]
          },
          "metadata": {}
        },
        {
          "output_type": "display_data",
          "data": {
            "text/plain": [
              "┏━━━━━━━━━━━━━━━━━━━━━━━━━━━━━━━━━━━━━━┳━━━━━━━━━━━━━━━━━━━━━━━━━━━━━┳━━━━━━━━━━━━━━━━━┓\n",
              "┃\u001b[1m \u001b[0m\u001b[1mLayer (type)                        \u001b[0m\u001b[1m \u001b[0m┃\u001b[1m \u001b[0m\u001b[1mOutput Shape               \u001b[0m\u001b[1m \u001b[0m┃\u001b[1m \u001b[0m\u001b[1m        Param #\u001b[0m\u001b[1m \u001b[0m┃\n",
              "┡━━━━━━━━━━━━━━━━━━━━━━━━━━━━━━━━━━━━━━╇━━━━━━━━━━━━━━━━━━━━━━━━━━━━━╇━━━━━━━━━━━━━━━━━┩\n",
              "│ dense_4 (\u001b[38;5;33mDense\u001b[0m)                      │ (\u001b[38;5;45mNone\u001b[0m, \u001b[38;5;34m512\u001b[0m)                 │       \u001b[38;5;34m1,573,376\u001b[0m │\n",
              "├──────────────────────────────────────┼─────────────────────────────┼─────────────────┤\n",
              "│ dense_5 (\u001b[38;5;33mDense\u001b[0m)                      │ (\u001b[38;5;45mNone\u001b[0m, \u001b[38;5;34m256\u001b[0m)                 │         \u001b[38;5;34m131,328\u001b[0m │\n",
              "├──────────────────────────────────────┼─────────────────────────────┼─────────────────┤\n",
              "│ dense_6 (\u001b[38;5;33mDense\u001b[0m)                      │ (\u001b[38;5;45mNone\u001b[0m, \u001b[38;5;34m112\u001b[0m)                 │          \u001b[38;5;34m28,784\u001b[0m │\n",
              "├──────────────────────────────────────┼─────────────────────────────┼─────────────────┤\n",
              "│ dense_7 (\u001b[38;5;33mDense\u001b[0m)                      │ (\u001b[38;5;45mNone\u001b[0m, \u001b[38;5;34m100\u001b[0m)                 │          \u001b[38;5;34m11,300\u001b[0m │\n",
              "└──────────────────────────────────────┴─────────────────────────────┴─────────────────┘\n"
            ],
            "text/html": [
              "<pre style=\"white-space:pre;overflow-x:auto;line-height:normal;font-family:Menlo,'DejaVu Sans Mono',consolas,'Courier New',monospace\">┏━━━━━━━━━━━━━━━━━━━━━━━━━━━━━━━━━━━━━━┳━━━━━━━━━━━━━━━━━━━━━━━━━━━━━┳━━━━━━━━━━━━━━━━━┓\n",
              "┃<span style=\"font-weight: bold\"> Layer (type)                         </span>┃<span style=\"font-weight: bold\"> Output Shape                </span>┃<span style=\"font-weight: bold\">         Param # </span>┃\n",
              "┡━━━━━━━━━━━━━━━━━━━━━━━━━━━━━━━━━━━━━━╇━━━━━━━━━━━━━━━━━━━━━━━━━━━━━╇━━━━━━━━━━━━━━━━━┩\n",
              "│ dense_4 (<span style=\"color: #0087ff; text-decoration-color: #0087ff\">Dense</span>)                      │ (<span style=\"color: #00d7ff; text-decoration-color: #00d7ff\">None</span>, <span style=\"color: #00af00; text-decoration-color: #00af00\">512</span>)                 │       <span style=\"color: #00af00; text-decoration-color: #00af00\">1,573,376</span> │\n",
              "├──────────────────────────────────────┼─────────────────────────────┼─────────────────┤\n",
              "│ dense_5 (<span style=\"color: #0087ff; text-decoration-color: #0087ff\">Dense</span>)                      │ (<span style=\"color: #00d7ff; text-decoration-color: #00d7ff\">None</span>, <span style=\"color: #00af00; text-decoration-color: #00af00\">256</span>)                 │         <span style=\"color: #00af00; text-decoration-color: #00af00\">131,328</span> │\n",
              "├──────────────────────────────────────┼─────────────────────────────┼─────────────────┤\n",
              "│ dense_6 (<span style=\"color: #0087ff; text-decoration-color: #0087ff\">Dense</span>)                      │ (<span style=\"color: #00d7ff; text-decoration-color: #00d7ff\">None</span>, <span style=\"color: #00af00; text-decoration-color: #00af00\">112</span>)                 │          <span style=\"color: #00af00; text-decoration-color: #00af00\">28,784</span> │\n",
              "├──────────────────────────────────────┼─────────────────────────────┼─────────────────┤\n",
              "│ dense_7 (<span style=\"color: #0087ff; text-decoration-color: #0087ff\">Dense</span>)                      │ (<span style=\"color: #00d7ff; text-decoration-color: #00d7ff\">None</span>, <span style=\"color: #00af00; text-decoration-color: #00af00\">100</span>)                 │          <span style=\"color: #00af00; text-decoration-color: #00af00\">11,300</span> │\n",
              "└──────────────────────────────────────┴─────────────────────────────┴─────────────────┘\n",
              "</pre>\n"
            ]
          },
          "metadata": {}
        },
        {
          "output_type": "display_data",
          "data": {
            "text/plain": [
              "\u001b[1m Total params: \u001b[0m\u001b[38;5;34m1,744,788\u001b[0m (6.66 MB)\n"
            ],
            "text/html": [
              "<pre style=\"white-space:pre;overflow-x:auto;line-height:normal;font-family:Menlo,'DejaVu Sans Mono',consolas,'Courier New',monospace\"><span style=\"font-weight: bold\"> Total params: </span><span style=\"color: #00af00; text-decoration-color: #00af00\">1,744,788</span> (6.66 MB)\n",
              "</pre>\n"
            ]
          },
          "metadata": {}
        },
        {
          "output_type": "display_data",
          "data": {
            "text/plain": [
              "\u001b[1m Trainable params: \u001b[0m\u001b[38;5;34m1,744,788\u001b[0m (6.66 MB)\n"
            ],
            "text/html": [
              "<pre style=\"white-space:pre;overflow-x:auto;line-height:normal;font-family:Menlo,'DejaVu Sans Mono',consolas,'Courier New',monospace\"><span style=\"font-weight: bold\"> Trainable params: </span><span style=\"color: #00af00; text-decoration-color: #00af00\">1,744,788</span> (6.66 MB)\n",
              "</pre>\n"
            ]
          },
          "metadata": {}
        },
        {
          "output_type": "display_data",
          "data": {
            "text/plain": [
              "\u001b[1m Non-trainable params: \u001b[0m\u001b[38;5;34m0\u001b[0m (0.00 B)\n"
            ],
            "text/html": [
              "<pre style=\"white-space:pre;overflow-x:auto;line-height:normal;font-family:Menlo,'DejaVu Sans Mono',consolas,'Courier New',monospace\"><span style=\"font-weight: bold\"> Non-trainable params: </span><span style=\"color: #00af00; text-decoration-color: #00af00\">0</span> (0.00 B)\n",
              "</pre>\n"
            ]
          },
          "metadata": {}
        },
        {
          "output_type": "stream",
          "name": "stdout",
          "text": [
            "Epoch 1/45\n",
            "\u001b[1m782/782\u001b[0m \u001b[32m━━━━━━━━━━━━━━━━━━━━\u001b[0m\u001b[37m\u001b[0m \u001b[1m26s\u001b[0m 31ms/step - accuracy: 0.0250 - loss: 4.4873 - val_accuracy: 0.0808 - val_loss: 3.9965\n",
            "Epoch 2/45\n",
            "\u001b[1m782/782\u001b[0m \u001b[32m━━━━━━━━━━━━━━━━━━━━\u001b[0m\u001b[37m\u001b[0m \u001b[1m23s\u001b[0m 30ms/step - accuracy: 0.0881 - loss: 3.9308 - val_accuracy: 0.1036 - val_loss: 3.8752\n",
            "Epoch 3/45\n",
            "\u001b[1m782/782\u001b[0m \u001b[32m━━━━━━━━━━━━━━━━━━━━\u001b[0m\u001b[37m\u001b[0m \u001b[1m42s\u001b[0m 31ms/step - accuracy: 0.1261 - loss: 3.7293 - val_accuracy: 0.1480 - val_loss: 3.6350\n",
            "Epoch 4/45\n",
            "\u001b[1m782/782\u001b[0m \u001b[32m━━━━━━━━━━━━━━━━━━━━\u001b[0m\u001b[37m\u001b[0m \u001b[1m24s\u001b[0m 31ms/step - accuracy: 0.1500 - loss: 3.5816 - val_accuracy: 0.1569 - val_loss: 3.5921\n",
            "Epoch 5/45\n",
            "\u001b[1m782/782\u001b[0m \u001b[32m━━━━━━━━━━━━━━━━━━━━\u001b[0m\u001b[37m\u001b[0m \u001b[1m25s\u001b[0m 31ms/step - accuracy: 0.1718 - loss: 3.4767 - val_accuracy: 0.1736 - val_loss: 3.5178\n",
            "Epoch 6/45\n",
            "\u001b[1m782/782\u001b[0m \u001b[32m━━━━━━━━━━━━━━━━━━━━\u001b[0m\u001b[37m\u001b[0m \u001b[1m40s\u001b[0m 31ms/step - accuracy: 0.1852 - loss: 3.4008 - val_accuracy: 0.1699 - val_loss: 3.4984\n",
            "Epoch 7/45\n",
            "\u001b[1m782/782\u001b[0m \u001b[32m━━━━━━━━━━━━━━━━━━━━\u001b[0m\u001b[37m\u001b[0m \u001b[1m41s\u001b[0m 31ms/step - accuracy: 0.1978 - loss: 3.3256 - val_accuracy: 0.1737 - val_loss: 3.4834\n",
            "Epoch 8/45\n",
            "\u001b[1m782/782\u001b[0m \u001b[32m━━━━━━━━━━━━━━━━━━━━\u001b[0m\u001b[37m\u001b[0m \u001b[1m40s\u001b[0m 30ms/step - accuracy: 0.2013 - loss: 3.2992 - val_accuracy: 0.1921 - val_loss: 3.4024\n",
            "Epoch 9/45\n",
            "\u001b[1m782/782\u001b[0m \u001b[32m━━━━━━━━━━━━━━━━━━━━\u001b[0m\u001b[37m\u001b[0m \u001b[1m24s\u001b[0m 31ms/step - accuracy: 0.2169 - loss: 3.2304 - val_accuracy: 0.1970 - val_loss: 3.3907\n",
            "Epoch 10/45\n",
            "\u001b[1m782/782\u001b[0m \u001b[32m━━━━━━━━━━━━━━━━━━━━\u001b[0m\u001b[37m\u001b[0m \u001b[1m42s\u001b[0m 32ms/step - accuracy: 0.2212 - loss: 3.1904 - val_accuracy: 0.2075 - val_loss: 3.3378\n",
            "Epoch 11/45\n",
            "\u001b[1m782/782\u001b[0m \u001b[32m━━━━━━━━━━━━━━━━━━━━\u001b[0m\u001b[37m\u001b[0m \u001b[1m25s\u001b[0m 31ms/step - accuracy: 0.2255 - loss: 3.1521 - val_accuracy: 0.2097 - val_loss: 3.3158\n",
            "Epoch 12/45\n",
            "\u001b[1m782/782\u001b[0m \u001b[32m━━━━━━━━━━━━━━━━━━━━\u001b[0m\u001b[37m\u001b[0m \u001b[1m23s\u001b[0m 30ms/step - accuracy: 0.2359 - loss: 3.1137 - val_accuracy: 0.2100 - val_loss: 3.3354\n",
            "Epoch 13/45\n",
            "\u001b[1m782/782\u001b[0m \u001b[32m━━━━━━━━━━━━━━━━━━━━\u001b[0m\u001b[37m\u001b[0m \u001b[1m44s\u001b[0m 33ms/step - accuracy: 0.2381 - loss: 3.0853 - val_accuracy: 0.2165 - val_loss: 3.3262\n",
            "Epoch 14/45\n",
            "\u001b[1m782/782\u001b[0m \u001b[32m━━━━━━━━━━━━━━━━━━━━\u001b[0m\u001b[37m\u001b[0m \u001b[1m25s\u001b[0m 32ms/step - accuracy: 0.2499 - loss: 3.0361 - val_accuracy: 0.2177 - val_loss: 3.3114\n",
            "Epoch 15/45\n",
            "\u001b[1m782/782\u001b[0m \u001b[32m━━━━━━━━━━━━━━━━━━━━\u001b[0m\u001b[37m\u001b[0m \u001b[1m25s\u001b[0m 32ms/step - accuracy: 0.2482 - loss: 3.0221 - val_accuracy: 0.2171 - val_loss: 3.3320\n",
            "Epoch 16/45\n",
            "\u001b[1m782/782\u001b[0m \u001b[32m━━━━━━━━━━━━━━━━━━━━\u001b[0m\u001b[37m\u001b[0m \u001b[1m25s\u001b[0m 32ms/step - accuracy: 0.2578 - loss: 2.9826 - val_accuracy: 0.2198 - val_loss: 3.3195\n",
            "Epoch 17/45\n",
            "\u001b[1m782/782\u001b[0m \u001b[32m━━━━━━━━━━━━━━━━━━━━\u001b[0m\u001b[37m\u001b[0m \u001b[1m41s\u001b[0m 31ms/step - accuracy: 0.2620 - loss: 2.9561 - val_accuracy: 0.2193 - val_loss: 3.3271\n",
            "Epoch 18/45\n",
            "\u001b[1m782/782\u001b[0m \u001b[32m━━━━━━━━━━━━━━━━━━━━\u001b[0m\u001b[37m\u001b[0m \u001b[1m24s\u001b[0m 31ms/step - accuracy: 0.2709 - loss: 2.9259 - val_accuracy: 0.2154 - val_loss: 3.3551\n",
            "Epoch 19/45\n",
            "\u001b[1m782/782\u001b[0m \u001b[32m━━━━━━━━━━━━━━━━━━━━\u001b[0m\u001b[37m\u001b[0m \u001b[1m25s\u001b[0m 32ms/step - accuracy: 0.2730 - loss: 2.9053 - val_accuracy: 0.2109 - val_loss: 3.3742\n",
            "Epoch 20/45\n",
            "\u001b[1m782/782\u001b[0m \u001b[32m━━━━━━━━━━━━━━━━━━━━\u001b[0m\u001b[37m\u001b[0m \u001b[1m25s\u001b[0m 32ms/step - accuracy: 0.2780 - loss: 2.8578 - val_accuracy: 0.2096 - val_loss: 3.4095\n",
            "Epoch 21/45\n",
            "\u001b[1m782/782\u001b[0m \u001b[32m━━━━━━━━━━━━━━━━━━━━\u001b[0m\u001b[37m\u001b[0m \u001b[1m41s\u001b[0m 31ms/step - accuracy: 0.2819 - loss: 2.8516 - val_accuracy: 0.2137 - val_loss: 3.3892\n",
            "Epoch 22/45\n",
            "\u001b[1m782/782\u001b[0m \u001b[32m━━━━━━━━━━━━━━━━━━━━\u001b[0m\u001b[37m\u001b[0m \u001b[1m24s\u001b[0m 31ms/step - accuracy: 0.2885 - loss: 2.8311 - val_accuracy: 0.2255 - val_loss: 3.3553\n",
            "Epoch 23/45\n",
            "\u001b[1m782/782\u001b[0m \u001b[32m━━━━━━━━━━━━━━━━━━━━\u001b[0m\u001b[37m\u001b[0m \u001b[1m41s\u001b[0m 31ms/step - accuracy: 0.2945 - loss: 2.7981 - val_accuracy: 0.2157 - val_loss: 3.3799\n",
            "Epoch 24/45\n",
            "\u001b[1m782/782\u001b[0m \u001b[32m━━━━━━━━━━━━━━━━━━━━\u001b[0m\u001b[37m\u001b[0m \u001b[1m41s\u001b[0m 31ms/step - accuracy: 0.2934 - loss: 2.7847 - val_accuracy: 0.2216 - val_loss: 3.4300\n",
            "Epoch 25/45\n",
            "\u001b[1m782/782\u001b[0m \u001b[32m━━━━━━━━━━━━━━━━━━━━\u001b[0m\u001b[37m\u001b[0m \u001b[1m40s\u001b[0m 31ms/step - accuracy: 0.3048 - loss: 2.7665 - val_accuracy: 0.2153 - val_loss: 3.4299\n",
            "Epoch 26/45\n",
            "\u001b[1m782/782\u001b[0m \u001b[32m━━━━━━━━━━━━━━━━━━━━\u001b[0m\u001b[37m\u001b[0m \u001b[1m24s\u001b[0m 30ms/step - accuracy: 0.3068 - loss: 2.7352 - val_accuracy: 0.2267 - val_loss: 3.4336\n",
            "Epoch 27/45\n",
            "\u001b[1m782/782\u001b[0m \u001b[32m━━━━━━━━━━━━━━━━━━━━\u001b[0m\u001b[37m\u001b[0m \u001b[1m24s\u001b[0m 31ms/step - accuracy: 0.3069 - loss: 2.7141 - val_accuracy: 0.2192 - val_loss: 3.4117\n",
            "Epoch 28/45\n",
            "\u001b[1m782/782\u001b[0m \u001b[32m━━━━━━━━━━━━━━━━━━━━\u001b[0m\u001b[37m\u001b[0m \u001b[1m24s\u001b[0m 31ms/step - accuracy: 0.3167 - loss: 2.6825 - val_accuracy: 0.2168 - val_loss: 3.4828\n",
            "Epoch 29/45\n",
            "\u001b[1m782/782\u001b[0m \u001b[32m━━━━━━━━━━━━━━━━━━━━\u001b[0m\u001b[37m\u001b[0m \u001b[1m41s\u001b[0m 31ms/step - accuracy: 0.3186 - loss: 2.6686 - val_accuracy: 0.2183 - val_loss: 3.5473\n",
            "Epoch 30/45\n",
            "\u001b[1m782/782\u001b[0m \u001b[32m━━━━━━━━━━━━━━━━━━━━\u001b[0m\u001b[37m\u001b[0m \u001b[1m41s\u001b[0m 31ms/step - accuracy: 0.3208 - loss: 2.6710 - val_accuracy: 0.2228 - val_loss: 3.4745\n",
            "Epoch 31/45\n",
            "\u001b[1m782/782\u001b[0m \u001b[32m━━━━━━━━━━━━━━━━━━━━\u001b[0m\u001b[37m\u001b[0m \u001b[1m25s\u001b[0m 32ms/step - accuracy: 0.3287 - loss: 2.6263 - val_accuracy: 0.2195 - val_loss: 3.5480\n",
            "Epoch 32/45\n",
            "\u001b[1m782/782\u001b[0m \u001b[32m━━━━━━━━━━━━━━━━━━━━\u001b[0m\u001b[37m\u001b[0m \u001b[1m25s\u001b[0m 32ms/step - accuracy: 0.3276 - loss: 2.6274 - val_accuracy: 0.2156 - val_loss: 3.5176\n",
            "Epoch 33/45\n",
            "\u001b[1m782/782\u001b[0m \u001b[32m━━━━━━━━━━━━━━━━━━━━\u001b[0m\u001b[37m\u001b[0m \u001b[1m41s\u001b[0m 31ms/step - accuracy: 0.3306 - loss: 2.6166 - val_accuracy: 0.2203 - val_loss: 3.5666\n",
            "Epoch 34/45\n",
            "\u001b[1m782/782\u001b[0m \u001b[32m━━━━━━━━━━━━━━━━━━━━\u001b[0m\u001b[37m\u001b[0m \u001b[1m41s\u001b[0m 31ms/step - accuracy: 0.3372 - loss: 2.5844 - val_accuracy: 0.2219 - val_loss: 3.5655\n",
            "Epoch 35/45\n",
            "\u001b[1m782/782\u001b[0m \u001b[32m━━━━━━━━━━━━━━━━━━━━\u001b[0m\u001b[37m\u001b[0m \u001b[1m24s\u001b[0m 31ms/step - accuracy: 0.3411 - loss: 2.5616 - val_accuracy: 0.2154 - val_loss: 3.6382\n",
            "Epoch 36/45\n",
            "\u001b[1m782/782\u001b[0m \u001b[32m━━━━━━━━━━━━━━━━━━━━\u001b[0m\u001b[37m\u001b[0m \u001b[1m41s\u001b[0m 31ms/step - accuracy: 0.3448 - loss: 2.5497 - val_accuracy: 0.2238 - val_loss: 3.5856\n",
            "Epoch 37/45\n",
            "\u001b[1m782/782\u001b[0m \u001b[32m━━━━━━━━━━━━━━━━━━━━\u001b[0m\u001b[37m\u001b[0m \u001b[1m41s\u001b[0m 32ms/step - accuracy: 0.3513 - loss: 2.5288 - val_accuracy: 0.2182 - val_loss: 3.5939\n",
            "Epoch 38/45\n",
            "\u001b[1m782/782\u001b[0m \u001b[32m━━━━━━━━━━━━━━━━━━━━\u001b[0m\u001b[37m\u001b[0m \u001b[1m40s\u001b[0m 31ms/step - accuracy: 0.3481 - loss: 2.5230 - val_accuracy: 0.2133 - val_loss: 3.6587\n",
            "Epoch 39/45\n",
            "\u001b[1m782/782\u001b[0m \u001b[32m━━━━━━━━━━━━━━━━━━━━\u001b[0m\u001b[37m\u001b[0m \u001b[1m41s\u001b[0m 31ms/step - accuracy: 0.3578 - loss: 2.5000 - val_accuracy: 0.2137 - val_loss: 3.6849\n",
            "Epoch 40/45\n",
            "\u001b[1m782/782\u001b[0m \u001b[32m━━━━━━━━━━━━━━━━━━━━\u001b[0m\u001b[37m\u001b[0m \u001b[1m40s\u001b[0m 30ms/step - accuracy: 0.3612 - loss: 2.4830 - val_accuracy: 0.2215 - val_loss: 3.6636\n",
            "Epoch 41/45\n",
            "\u001b[1m782/782\u001b[0m \u001b[32m━━━━━━━━━━━━━━━━━━━━\u001b[0m\u001b[37m\u001b[0m \u001b[1m41s\u001b[0m 31ms/step - accuracy: 0.3607 - loss: 2.4824 - val_accuracy: 0.2110 - val_loss: 3.7350\n",
            "Epoch 42/45\n",
            "\u001b[1m782/782\u001b[0m \u001b[32m━━━━━━━━━━━━━━━━━━━━\u001b[0m\u001b[37m\u001b[0m \u001b[1m41s\u001b[0m 31ms/step - accuracy: 0.3609 - loss: 2.4660 - val_accuracy: 0.2188 - val_loss: 3.6522\n",
            "Epoch 43/45\n",
            "\u001b[1m782/782\u001b[0m \u001b[32m━━━━━━━━━━━━━━━━━━━━\u001b[0m\u001b[37m\u001b[0m \u001b[1m24s\u001b[0m 31ms/step - accuracy: 0.3642 - loss: 2.4506 - val_accuracy: 0.2203 - val_loss: 3.7071\n",
            "Epoch 44/45\n",
            "\u001b[1m782/782\u001b[0m \u001b[32m━━━━━━━━━━━━━━━━━━━━\u001b[0m\u001b[37m\u001b[0m \u001b[1m41s\u001b[0m 31ms/step - accuracy: 0.3698 - loss: 2.4387 - val_accuracy: 0.2149 - val_loss: 3.7638\n",
            "Epoch 45/45\n",
            "\u001b[1m782/782\u001b[0m \u001b[32m━━━━━━━━━━━━━━━━━━━━\u001b[0m\u001b[37m\u001b[0m \u001b[1m25s\u001b[0m 32ms/step - accuracy: 0.3786 - loss: 2.4194 - val_accuracy: 0.2146 - val_loss: 3.8226\n"
          ]
        }
      ],
      "source": [
        "from re import X\n",
        "from keras.datasets import cifar100\n",
        "(X_train,y_train),(X_test,y_test)=cifar100.load_data()\n",
        "X_train=X_train.reshape(50000,32*32*3)\n",
        "X_train=X_train.astype('float32')/255\n",
        "X_test=X_test.reshape(10000,32*32*3)\n",
        "X_test=X_test.astype('float32')/255\n",
        "from keras.utils import to_categorical\n",
        "import matplotlib.pyplot as plt\n",
        "from keras.models import Sequential\n",
        "from keras.layers import Dense\n",
        "y_train=to_categorical(y_train)\n",
        "y_test=to_categorical(y_test)\n",
        "model = Sequential()\n",
        "model.add(Dense(512, input_shape=(3072,), activation='relu'))\n",
        "model.add(Dense(256, activation='relu'))\n",
        "model.add(Dense(112, activation='relu'))\n",
        "model.add(Dense(100, activation='softmax'))\n",
        "model.compile(optimizer='adam', loss='categorical_crossentropy', metrics=['accuracy'])\n",
        "model.summary()\n",
        "history = model.fit(X_train, y_train, epochs=45, batch_size=64, validation_data=(X_test, y_test))"
      ]
    },
    {
      "cell_type": "code",
      "source": [
        "#CAMEL\n",
        "from keras.utils import to_categorical\n",
        "from keras.utils import img_to_array\n",
        "from keras.preprocessing.image import load_img\n",
        "img = load_img('/content/images (2).jpg',target_size=(32,32))\n",
        "img=img_to_array(img)\n",
        "img=img.reshape(1,32*32*3)\n",
        "img=img.astype('float32')/255.0\n",
        "import numpy as np\n",
        "np.argmax(model.predict(img),axis=-1)"
      ],
      "metadata": {
        "colab": {
          "base_uri": "https://localhost:8080/"
        },
        "id": "9tg4od8vSqUI",
        "outputId": "ecaf8a21-d0ef-48c0-d206-711db143d13c"
      },
      "execution_count": 20,
      "outputs": [
        {
          "output_type": "stream",
          "name": "stdout",
          "text": [
            "\u001b[1m1/1\u001b[0m \u001b[32m━━━━━━━━━━━━━━━━━━━━\u001b[0m\u001b[37m\u001b[0m \u001b[1m0s\u001b[0m 43ms/step\n"
          ]
        },
        {
          "output_type": "execute_result",
          "data": {
            "text/plain": [
              "array([15])"
            ]
          },
          "metadata": {},
          "execution_count": 20
        }
      ]
    },
    {
      "cell_type": "code",
      "source": [
        "#BICYCLE\n",
        "from keras.utils import to_categorical\n",
        "from keras.utils import img_to_array\n",
        "from keras.preprocessing.image import load_img\n",
        "img = load_img('/content/roll-bicycle-company-c1-city-bike-step-thru-405434-12.png',target_size=(32,32))\n",
        "img=img_to_array(img)\n",
        "img=img.reshape(1,32*32*3)\n",
        "img=img.astype('float32')/255.0\n",
        "import numpy as np\n",
        "np.argmax(model.predict(img),axis=-1)"
      ],
      "metadata": {
        "colab": {
          "base_uri": "https://localhost:8080/"
        },
        "id": "3tbWlI32WDt_",
        "outputId": "9e825163-91d2-474e-cd39-67a38b8c2621"
      },
      "execution_count": 21,
      "outputs": [
        {
          "output_type": "stream",
          "name": "stdout",
          "text": [
            "\u001b[1m1/1\u001b[0m \u001b[32m━━━━━━━━━━━━━━━━━━━━\u001b[0m\u001b[37m\u001b[0m \u001b[1m0s\u001b[0m 47ms/step\n"
          ]
        },
        {
          "output_type": "execute_result",
          "data": {
            "text/plain": [
              "array([8])"
            ]
          },
          "metadata": {},
          "execution_count": 21
        }
      ]
    },
    {
      "cell_type": "code",
      "source": [
        "#CHAIR\n",
        "from keras.utils import to_categorical\n",
        "from keras.utils import img_to_array\n",
        "from keras.preprocessing.image import load_img\n",
        "img = load_img('/content/foundations-little-scholars-kids-school-chairs-12-in-seat-height_main_1.jpg',target_size=(32,32))\n",
        "img=img_to_array(img)\n",
        "img=img.reshape(1,32*32*3)\n",
        "img=img.astype('float32')/255.0\n",
        "import numpy as np\n",
        "np.argmax(model.predict(img),axis=-1)"
      ],
      "metadata": {
        "colab": {
          "base_uri": "https://localhost:8080/"
        },
        "id": "fGwYvV1dWi63",
        "outputId": "73b3e7a4-9070-4d0f-a562-76384c59aa6e"
      },
      "execution_count": 22,
      "outputs": [
        {
          "output_type": "stream",
          "name": "stdout",
          "text": [
            "\u001b[1m1/1\u001b[0m \u001b[32m━━━━━━━━━━━━━━━━━━━━\u001b[0m\u001b[37m\u001b[0m \u001b[1m0s\u001b[0m 43ms/step\n"
          ]
        },
        {
          "output_type": "execute_result",
          "data": {
            "text/plain": [
              "array([20])"
            ]
          },
          "metadata": {},
          "execution_count": 22
        }
      ]
    },
    {
      "cell_type": "code",
      "source": [
        "#ELEPHANT\n",
        "from keras.utils import to_categorical\n",
        "from keras.utils import img_to_array\n",
        "from keras.preprocessing.image import load_img\n",
        "img = load_img('/content/AboutElephant-Savanna.jpg',target_size=(32,32))\n",
        "img=img_to_array(img)\n",
        "img=img.reshape(1,32*32*3)\n",
        "img=img.astype('float32')/255.0\n",
        "import numpy as np\n",
        "np.argmax(model.predict(img),axis=-1)"
      ],
      "metadata": {
        "colab": {
          "base_uri": "https://localhost:8080/"
        },
        "id": "nZR7h1Q4Ws0Y",
        "outputId": "55ba0da6-ad29-451d-b819-ee84a05e7a5d"
      },
      "execution_count": 24,
      "outputs": [
        {
          "output_type": "stream",
          "name": "stdout",
          "text": [
            "\u001b[1m1/1\u001b[0m \u001b[32m━━━━━━━━━━━━━━━━━━━━\u001b[0m\u001b[37m\u001b[0m \u001b[1m0s\u001b[0m 40ms/step\n"
          ]
        },
        {
          "output_type": "execute_result",
          "data": {
            "text/plain": [
              "array([31])"
            ]
          },
          "metadata": {},
          "execution_count": 24
        }
      ]
    },
    {
      "cell_type": "code",
      "source": [
        "#lion\n",
        "from keras.utils import to_categorical\n",
        "from keras.utils import img_to_array\n",
        "from keras.preprocessing.image import load_img\n",
        "img = load_img('/content/images (4).jpg',target_size=(32,32))\n",
        "img=img_to_array(img)\n",
        "img=img.reshape(1,32*32*3)\n",
        "img=img.astype('float32')/255.0\n",
        "import numpy as np\n",
        "np.argmax(model.predict(img),axis=-1)"
      ],
      "metadata": {
        "colab": {
          "base_uri": "https://localhost:8080/"
        },
        "id": "Yj9RYvmVXhgF",
        "outputId": "939422d8-0430-4f8f-dc85-4e428fda5d07"
      },
      "execution_count": 26,
      "outputs": [
        {
          "output_type": "stream",
          "name": "stdout",
          "text": [
            "\u001b[1m1/1\u001b[0m \u001b[32m━━━━━━━━━━━━━━━━━━━━\u001b[0m\u001b[37m\u001b[0m \u001b[1m0s\u001b[0m 40ms/step\n"
          ]
        },
        {
          "output_type": "execute_result",
          "data": {
            "text/plain": [
              "array([43])"
            ]
          },
          "metadata": {},
          "execution_count": 26
        }
      ]
    },
    {
      "cell_type": "code",
      "source": [
        "#orange\n",
        "from keras.utils import to_categorical\n",
        "from keras.utils import img_to_array\n",
        "from keras.preprocessing.image import load_img\n",
        "img = load_img('/content/fresh-orange.png',target_size=(32,32))\n",
        "img=img_to_array(img)\n",
        "img=img.reshape(1,32*32*3)\n",
        "img=img.astype('float32')/255.0\n",
        "import numpy as np\n",
        "np.argmax(model.predict(img),axis=-1)"
      ],
      "metadata": {
        "colab": {
          "base_uri": "https://localhost:8080/"
        },
        "id": "KrwVknO7X6OJ",
        "outputId": "0b26cdb8-f645-42a5-f892-beadab0b6718"
      },
      "execution_count": 29,
      "outputs": [
        {
          "output_type": "stream",
          "name": "stdout",
          "text": [
            "\u001b[1m1/1\u001b[0m \u001b[32m━━━━━━━━━━━━━━━━━━━━\u001b[0m\u001b[37m\u001b[0m \u001b[1m0s\u001b[0m 42ms/step\n"
          ]
        },
        {
          "output_type": "execute_result",
          "data": {
            "text/plain": [
              "array([53])"
            ]
          },
          "metadata": {},
          "execution_count": 29
        }
      ]
    },
    {
      "cell_type": "code",
      "source": [
        "#crab\n",
        "from keras.utils import to_categorical\n",
        "from keras.utils import img_to_array\n",
        "from keras.preprocessing.image import load_img\n",
        "img = load_img('/content/images (6).jpg',target_size=(32,32))\n",
        "img=img_to_array(img)\n",
        "img=img.reshape(1,32*32*3)\n",
        "img=img.astype('float32')/255.0\n",
        "import numpy as np\n",
        "np.argmax(model.predict(img),axis=-1)"
      ],
      "metadata": {
        "colab": {
          "base_uri": "https://localhost:8080/"
        },
        "id": "7EAQ4Kn3YrTc",
        "outputId": "0b740a63-6978-44cf-d868-19e5fb12b784"
      },
      "execution_count": 30,
      "outputs": [
        {
          "output_type": "stream",
          "name": "stdout",
          "text": [
            "\u001b[1m1/1\u001b[0m \u001b[32m━━━━━━━━━━━━━━━━━━━━\u001b[0m\u001b[37m\u001b[0m \u001b[1m0s\u001b[0m 41ms/step\n"
          ]
        },
        {
          "output_type": "execute_result",
          "data": {
            "text/plain": [
              "array([26])"
            ]
          },
          "metadata": {},
          "execution_count": 30
        }
      ]
    },
    {
      "cell_type": "code",
      "source": [
        "#forest\n",
        "from keras.utils import to_categorical\n",
        "from keras.utils import img_to_array\n",
        "from keras.preprocessing.image import load_img\n",
        "img = load_img('/content/cropped-forests.jpeg',target_size=(32,32))\n",
        "img=img_to_array(img)\n",
        "img=img.reshape(1,32*32*3)\n",
        "img=img.astype('float32')/255.0\n",
        "import numpy as np\n",
        "np.argmax(model.predict(img),axis=-1)"
      ],
      "metadata": {
        "colab": {
          "base_uri": "https://localhost:8080/"
        },
        "id": "eovRNNe5Y2wb",
        "outputId": "b227f051-08a1-4cdb-f9c2-28ce7b27ec1a"
      },
      "execution_count": 34,
      "outputs": [
        {
          "output_type": "stream",
          "name": "stdout",
          "text": [
            "\u001b[1m1/1\u001b[0m \u001b[32m━━━━━━━━━━━━━━━━━━━━\u001b[0m\u001b[37m\u001b[0m \u001b[1m0s\u001b[0m 41ms/step\n"
          ]
        },
        {
          "output_type": "execute_result",
          "data": {
            "text/plain": [
              "array([33])"
            ]
          },
          "metadata": {},
          "execution_count": 34
        }
      ]
    },
    {
      "cell_type": "code",
      "source": [
        "#girl\n",
        "from keras.utils import to_categorical\n",
        "from keras.utils import img_to_array\n",
        "from keras.preprocessing.image import load_img\n",
        "img = load_img('/content/beautiful-smiling-girl-with-long-braided-hair-in-a-sweater-photo.jpeg',target_size=(32,32))\n",
        "img=img_to_array(img)\n",
        "img=img.reshape(1,32*32*3)\n",
        "img=img.astype('float32')/255.0\n",
        "import numpy as np\n",
        "np.argmax(model.predict(img),axis=-1)"
      ],
      "metadata": {
        "colab": {
          "base_uri": "https://localhost:8080/"
        },
        "id": "wXKlQDrPZf6F",
        "outputId": "ae47202a-64b6-457c-a2d6-3ad33dfb3b81"
      },
      "execution_count": 36,
      "outputs": [
        {
          "output_type": "stream",
          "name": "stdout",
          "text": [
            "\u001b[1m1/1\u001b[0m \u001b[32m━━━━━━━━━━━━━━━━━━━━\u001b[0m\u001b[37m\u001b[0m \u001b[1m0s\u001b[0m 42ms/step\n"
          ]
        },
        {
          "output_type": "execute_result",
          "data": {
            "text/plain": [
              "array([35])"
            ]
          },
          "metadata": {},
          "execution_count": 36
        }
      ]
    },
    {
      "cell_type": "code",
      "source": [
        "#rocket\n",
        "from keras.utils import to_categorical\n",
        "from keras.utils import img_to_array\n",
        "from keras.preprocessing.image import load_img\n",
        "img = load_img('/content/images (7).jpg',target_size=(32,32))\n",
        "img=img_to_array(img)\n",
        "img=img.reshape(1,32*32*3)\n",
        "img=img.astype('float32')/255.0\n",
        "import numpy as np\n",
        "np.argmax(model.predict(img),axis=-1)"
      ],
      "metadata": {
        "colab": {
          "base_uri": "https://localhost:8080/"
        },
        "id": "Ae_MvceCZ98C",
        "outputId": "2c4775c2-d6f5-49db-8e9d-fbf36862b19a"
      },
      "execution_count": 37,
      "outputs": [
        {
          "output_type": "stream",
          "name": "stdout",
          "text": [
            "\u001b[1m1/1\u001b[0m \u001b[32m━━━━━━━━━━━━━━━━━━━━\u001b[0m\u001b[37m\u001b[0m \u001b[1m0s\u001b[0m 42ms/step\n"
          ]
        },
        {
          "output_type": "execute_result",
          "data": {
            "text/plain": [
              "array([69])"
            ]
          },
          "metadata": {},
          "execution_count": 37
        }
      ]
    }
  ]
}